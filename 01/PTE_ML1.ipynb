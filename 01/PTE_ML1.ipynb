{
  "cells": [
    {
      "cell_type": "markdown",
      "metadata": {
        "id": "view-in-github",
        "colab_type": "text"
      },
      "source": [
        "<a href=\"https://colab.research.google.com/github/karsarobert/Machine-Learning-2023/blob/main/01/PTE_ML1.ipynb\" target=\"_parent\"><img src=\"https://colab.research.google.com/assets/colab-badge.svg\" alt=\"Open In Colab\"/></a>"
      ]
    },
    {
      "cell_type": "markdown",
      "id": "opposed-female",
      "metadata": {
        "id": "opposed-female"
      },
      "source": [
        "# A mesterséges intelligencia matematikai alapjai gyakorlat\n",
        "# PTE Gépi tanulás\n",
        "\n",
        "## 1. Előadás: bevezetés, python csomagok\n",
        "### 2023. február 6."
      ]
    },
    {
      "cell_type": "markdown",
      "source": [
        "Python segédanyagok:\n",
        "\n",
        "[Python oktatóanyag](https://docs.python.org/3/tutorial/introduction.html#using-python-as-a-calculator)\n",
        "\n",
        "[Google Python oktatóanyaga](https://developers.google.com/edu/python/introduction)"
      ],
      "metadata": {
        "id": "ug9gCleISPXa"
      },
      "id": "ug9gCleISPXa"
    },
    {
      "cell_type": "markdown",
      "source": [
        "[Colab oktatóanyag](https://colab.research.google.com/)"
      ],
      "metadata": {
        "id": "XU5ri0GiZeNE"
      },
      "id": "XU5ri0GiZeNE"
    },
    {
      "cell_type": "markdown",
      "id": "whole-basketball",
      "metadata": {
        "id": "whole-basketball"
      },
      "source": [
        "### Python csomagok amire szükségünk lesz a félév folyamán\n",
        "|   csomag |    |\n",
        "| --- | --- |\n",
        "| NumPy | Hatékony N-dimenziós tömb |\n",
        "| SciPy | Numerikus számítások |\n",
        "| Matplotlib | Grafikonok és rajzok  |\n",
        "| IPython (Jupyter) | Interaktív notebook |\n",
        "| Pandas | Adatbányászat |\n",
        "| Tensorflow | Neurális hálózatok |"
      ]
    },
    {
      "cell_type": "markdown",
      "source": [
        "### Követelmények a félév során\n",
        "Házi feladatok leadása nem kötelező, de erősen ajánlott!\n",
        "A gyakorlati jegy a házifeladatok és egy beadandó feladatból tevődik össze.\n",
        "Minden házifeladat leadása már 2-es, :-)\n"
      ],
      "metadata": {
        "id": "vDRAG-P4CFOM"
      },
      "id": "vDRAG-P4CFOM"
    },
    {
      "cell_type": "markdown",
      "id": "overall-segment",
      "metadata": {
        "id": "overall-segment"
      },
      "source": [
        "# Numpy\n",
        "\n",
        "\n",
        "https://numpy.org/\n",
        "\n",
        "A NumPy a tudományos számítások alapvető csomagja Python nyelven. Ez egy Python könyvtár, amely egy többdimenziós tömb objektumot, különböző származtatott objektumokat (például maszkolt tömböket és mátrixokat), valamint egy sor rutint biztosít a tömbökön végzett gyors műveletekhez, beleértve a matematikai, logikai, alakmanipulációs, rendezési, kiválasztási, I/O, diszkrét Fourier-transzformációk, alapvető lineáris algebra, alapvető statisztikai műveletek, véletlenszerű szimuláció és sok más.\n",
        "\n",
        "A NumPy csomag központi eleme az ndarray objektum. Ez homogén adattípusok n-dimenziós tömbjeit foglalja magába. A NumPy tömbök és a szabványos Python-sorozatok között számos fontos különbség van:\n",
        "\n",
        "1. A NumPy tömbök mérete a létrehozáskor rögzített, ellentétben a Python listákkal (amelyek dinamikusan növekedhetnek). Egy ndarray méretének megváltoztatása egy új tömböt hoz létre, és törli az eredetit.\n",
        "\n",
        "2. A NumPy tömb elemeinek mind azonos adattípusúnak kell lenniük, és így a memóriában azonos méretűek lesznek. A kivétel: lehetnek (Python, beleértve a NumPy) objektumokból álló tömbök, ezáltal lehetővé téve különböző méretű elemekből álló tömbök létrehozását.\n",
        "\n",
        "3. A NumPy tömbök megkönnyítik a fejlett matematikai és más típusú műveleteket nagy adatmennyiségeken. Az ilyen műveletek általában hatékonyabban és kevesebb kóddal végezhetők el, mint a Python beépített sorozataival.\n",
        "\n",
        "Egyre több tudományos és matematikai Python-alapú csomag használja a NumPy tömböket; bár ezek jellemzően támogatják a Python-szekvencia bemenetet, de a feldolgozás előtt az ilyen bemenetet NumPy tömbökké alakítják, és gyakran NumPy tömböket adnak ki. Más szóval, ahhoz, hogy hatékonyan használhassuk a mai tudományos/matematikai Python-alapú szoftverek nagy részét (talán a legtöbbet), nem elég, ha csak a Python beépített szekvencia típusait tudjuk használni - tudnunk kell a NumPy tömbök használatát is."
      ]
    },
    {
      "cell_type": "markdown",
      "id": "important-measure",
      "metadata": {
        "id": "important-measure"
      },
      "source": [
        "### Importálási konvenció: `import numpy as np` "
      ]
    },
    {
      "cell_type": "code",
      "execution_count": 2,
      "id": "gross-channel",
      "metadata": {
        "id": "gross-channel"
      },
      "outputs": [],
      "source": [
        "import numpy as np"
      ]
    },
    {
      "cell_type": "markdown",
      "id": "mighty-burke",
      "metadata": {
        "collapsed": true,
        "id": "mighty-burke"
      },
      "source": [
        "# N-dimenziós tömbök\n",
        "\n",
        "A numpy központi objektuma az `ndarray` (_$n$-dimenziós tömb_)."
      ]
    },
    {
      "cell_type": "code",
      "execution_count": 3,
      "id": "adopted-withdrawal",
      "metadata": {
        "id": "adopted-withdrawal",
        "colab": {
          "base_uri": "https://localhost:8080/"
        },
        "outputId": "bd503ca1-809c-4637-f891-5b18c85a8720"
      },
      "outputs": [
        {
          "output_type": "execute_result",
          "data": {
            "text/plain": [
              "array([[1, 2],\n",
              "       [3, 4],\n",
              "       [5, 6]])"
            ]
          },
          "metadata": {},
          "execution_count": 3
        }
      ],
      "source": [
        "A = np.array([[1, 2], [3, 4], [5, 6]])     \n",
        "A"
      ]
    },
    {
      "cell_type": "code",
      "execution_count": 4,
      "id": "operating-level",
      "metadata": {
        "id": "operating-level",
        "outputId": "0b19e18f-73ab-44c5-bffa-d19f27f0acb6",
        "colab": {
          "base_uri": "https://localhost:8080/"
        }
      },
      "outputs": [
        {
          "output_type": "execute_result",
          "data": {
            "text/plain": [
              "numpy.ndarray"
            ]
          },
          "metadata": {},
          "execution_count": 4
        }
      ],
      "source": [
        "type(A)"
      ]
    },
    {
      "cell_type": "markdown",
      "id": "explicit-understanding",
      "metadata": {
        "id": "explicit-understanding"
      },
      "source": [
        "`A.shape` egy tuple a tömb dimenzióival, alakjával. "
      ]
    },
    {
      "cell_type": "code",
      "execution_count": 5,
      "id": "pediatric-leadership",
      "metadata": {
        "id": "pediatric-leadership",
        "outputId": "3d866d1a-a638-4d70-b8f9-645670b82c82",
        "colab": {
          "base_uri": "https://localhost:8080/"
        }
      },
      "outputs": [
        {
          "output_type": "execute_result",
          "data": {
            "text/plain": [
              "(3, 2)"
            ]
          },
          "metadata": {},
          "execution_count": 5
        }
      ],
      "source": [
        "A.shape"
      ]
    },
    {
      "cell_type": "markdown",
      "id": "polyphonic-vermont",
      "metadata": {
        "id": "polyphonic-vermont"
      },
      "source": [
        "### Több dimenzió\n",
        "Többdimenziós tömbökkel sok helyen találkozhatunk. Egyik tipikus megjelenésük a képek tárolása. Minden tömb egy háromdimenziós tömb, ahol az első két dimenzió az x és y koordinátának felel meg, a harmadik mentén pedig felsoroljuk az RGB értékeket. Az RGB értékek 0 és 255 közötti egészek.  "
      ]
    },
    {
      "cell_type": "code",
      "execution_count": 6,
      "id": "neither-opportunity",
      "metadata": {
        "id": "neither-opportunity",
        "outputId": "1a722722-6a24-466d-a153-3281ac8e67d6",
        "colab": {
          "base_uri": "https://localhost:8080/"
        }
      },
      "outputs": [
        {
          "output_type": "stream",
          "name": "stdout",
          "text": [
            "<class 'imageio.core.util.Array'>\n"
          ]
        },
        {
          "output_type": "execute_result",
          "data": {
            "text/plain": [
              "((225, 400, 3), dtype('uint8'))"
            ]
          },
          "metadata": {},
          "execution_count": 6
        }
      ],
      "source": [
        "import imageio                                  #kép beolvasáshoz\n",
        "import matplotlib.pyplot as plt                 #kép megjelenítéshez\n",
        "\n",
        "fig_size = plt.rcParams[\"figure.figsize\"]       #kép méret növelése\n",
        "fig_size[0] = 10\n",
        "fig_size[1] = 8\n",
        "plt.rcParams[\"figure.figsize\"] = fig_size\n",
        "\n",
        "image = imageio.imread('https://hub-courses.pages.pasteur.fr/ScientificPython/2-DataMangling/images/numpy.jpg')\n",
        "print(type(image))\n",
        "\n",
        "image.shape, image.dtype"
      ]
    },
    {
      "cell_type": "code",
      "execution_count": null,
      "id": "charming-progress",
      "metadata": {
        "id": "charming-progress",
        "outputId": "0d3bc404-bb36-43f3-cc09-88b715bd451a",
        "colab": {
          "base_uri": "https://localhost:8080/"
        }
      },
      "outputs": [
        {
          "output_type": "execute_result",
          "data": {
            "text/plain": [
              "Array([255, 255, 255], dtype=uint8)"
            ]
          },
          "metadata": {},
          "execution_count": 9
        }
      ],
      "source": [
        "image[0,0]"
      ]
    },
    {
      "cell_type": "code",
      "execution_count": null,
      "id": "usual-cornell",
      "metadata": {
        "id": "usual-cornell",
        "outputId": "13bcb6a0-ffd8-43bf-ba42-0d7fa0918078",
        "colab": {
          "base_uri": "https://localhost:8080/",
          "height": 365
        }
      },
      "outputs": [
        {
          "output_type": "display_data",
          "data": {
            "image/png": "[encoded data removed]",
            "text/plain": [
              "<Figure size 720x576 with 1 Axes>"
            ]
          },
          "metadata": {
            "needs_background": "light"
          }
        }
      ],
      "source": [
        "plt.imshow(image)\n",
        "plt.show()"
      ]
    },
    {
      "cell_type": "markdown",
      "id": "another-agreement",
      "metadata": {
        "id": "another-agreement"
      },
      "source": [
        "## dtype\n",
        "A listákkal ellentétben nem tárolhatunk benne bármit!\n",
        "A `dtype` megadja a tárolt elemek típusát"
      ]
    },
    {
      "cell_type": "code",
      "execution_count": 8,
      "id": "secondary-plumbing",
      "metadata": {
        "id": "secondary-plumbing",
        "outputId": "b88ee5f7-3cb2-44ca-9df6-31d26d90a698",
        "colab": {
          "base_uri": "https://localhost:8080/"
        }
      },
      "outputs": [
        {
          "output_type": "execute_result",
          "data": {
            "text/plain": [
              "dtype('int64')"
            ]
          },
          "metadata": {},
          "execution_count": 8
        }
      ],
      "source": [
        "A.dtype"
      ]
    },
    {
      "cell_type": "markdown",
      "source": [
        "### dtype típusok\n",
        "konvertálások"
      ],
      "metadata": {
        "id": "9NWumojKJDC1"
      },
      "id": "9NWumojKJDC1"
    },
    {
      "cell_type": "code",
      "source": [
        "print(np.float64(21))\n",
        "\n",
        "print(np.int8(21.0)) \n",
        "\n",
        "print(bool(21))\n",
        "\n",
        "print(np.bool(0)) \n",
        "\n",
        "print(np.bool(21.0)) \n",
        "\n",
        "print(np.float(True)) \n",
        "\n",
        "print(np.float(False)) \n",
        "\n",
        "arr=np.arange(1,11, dtype= np.float32)\n",
        "\n",
        "print(arr)\n",
        "\n"
      ],
      "metadata": {
        "colab": {
          "base_uri": "https://localhost:8080/"
        },
        "id": "5RV5NSUiI0hc",
        "outputId": "c5b7754f-271a-446e-e9ec-184b00906d5e"
      },
      "id": "5RV5NSUiI0hc",
      "execution_count": 10,
      "outputs": [
        {
          "output_type": "stream",
          "name": "stdout",
          "text": [
            "21.0\n",
            "21\n",
            "True\n",
            "False\n",
            "True\n",
            "1.0\n",
            "0.0\n",
            "[ 1.  2.  3.  4.  5.  6.  7.  8.  9. 10.]\n"
          ]
        },
        {
          "output_type": "stream",
          "name": "stderr",
          "text": [
            "<ipython-input-10-a5a34d861d98>:7: DeprecationWarning: `np.bool` is a deprecated alias for the builtin `bool`. To silence this warning, use `bool` by itself. Doing this will not modify any behavior and is safe. If you specifically wanted the numpy scalar type, use `np.bool_` here.\n",
            "Deprecated in NumPy 1.20; for more details and guidance: https://numpy.org/devdocs/release/1.20.0-notes.html#deprecations\n",
            "  print(np.bool(0))\n",
            "<ipython-input-10-a5a34d861d98>:9: DeprecationWarning: `np.bool` is a deprecated alias for the builtin `bool`. To silence this warning, use `bool` by itself. Doing this will not modify any behavior and is safe. If you specifically wanted the numpy scalar type, use `np.bool_` here.\n",
            "Deprecated in NumPy 1.20; for more details and guidance: https://numpy.org/devdocs/release/1.20.0-notes.html#deprecations\n",
            "  print(np.bool(21.0))\n",
            "<ipython-input-10-a5a34d861d98>:11: DeprecationWarning: `np.float` is a deprecated alias for the builtin `float`. To silence this warning, use `float` by itself. Doing this will not modify any behavior and is safe. If you specifically wanted the numpy scalar type, use `np.float64` here.\n",
            "Deprecated in NumPy 1.20; for more details and guidance: https://numpy.org/devdocs/release/1.20.0-notes.html#deprecations\n",
            "  print(np.float(True))\n",
            "<ipython-input-10-a5a34d861d98>:13: DeprecationWarning: `np.float` is a deprecated alias for the builtin `float`. To silence this warning, use `float` by itself. Doing this will not modify any behavior and is safe. If you specifically wanted the numpy scalar type, use `np.float64` here.\n",
            "Deprecated in NumPy 1.20; for more details and guidance: https://numpy.org/devdocs/release/1.20.0-notes.html#deprecations\n",
            "  print(np.float(False))\n"
          ]
        }
      ]
    },
    {
      "cell_type": "code",
      "source": [
        "print(complex(42.0 + 1.j))\n",
        "\n",
        "c= complex(42, 1)\n",
        "print(c)\n",
        "\n",
        "print(c.real,c.imag)"
      ],
      "metadata": {
        "colab": {
          "base_uri": "https://localhost:8080/"
        },
        "id": "hc5uD6EaJlhU",
        "outputId": "25ea435b-b227-4111-e4ee-9b4904c93594"
      },
      "id": "hc5uD6EaJlhU",
      "execution_count": 11,
      "outputs": [
        {
          "output_type": "stream",
          "name": "stdout",
          "text": [
            "(42+1j)\n",
            "(42+1j)\n",
            "42.0 1.0\n"
          ]
        }
      ]
    },
    {
      "cell_type": "code",
      "source": [
        "print(int(42.0 + 1.j))"
      ],
      "metadata": {
        "colab": {
          "base_uri": "https://localhost:8080/",
          "height": 165
        },
        "id": "DQ5abK5ULQbF",
        "outputId": "aca642ab-f0c5-4eb3-8dfc-f8b385e47730"
      },
      "id": "DQ5abK5ULQbF",
      "execution_count": 12,
      "outputs": [
        {
          "output_type": "error",
          "ename": "TypeError",
          "evalue": "ignored",
          "traceback": [
            "\u001b[0;31m---------------------------------------------------------------------------\u001b[0m",
            "\u001b[0;31mTypeError\u001b[0m                                 Traceback (most recent call last)",
            "\u001b[0;32m<ipython-input-12-a455f1bcf5c5>\u001b[0m in \u001b[0;36m<module>\u001b[0;34m\u001b[0m\n\u001b[0;32m----> 1\u001b[0;31m \u001b[0mprint\u001b[0m\u001b[0;34m(\u001b[0m\u001b[0mint\u001b[0m\u001b[0;34m(\u001b[0m\u001b[0;36m42.0\u001b[0m \u001b[0;34m+\u001b[0m \u001b[0;36m1.j\u001b[0m\u001b[0;34m)\u001b[0m\u001b[0;34m)\u001b[0m\u001b[0;34m\u001b[0m\u001b[0;34m\u001b[0m\u001b[0m\n\u001b[0m",
            "\u001b[0;31mTypeError\u001b[0m: can't convert complex to int"
          ]
        }
      ]
    },
    {
      "cell_type": "code",
      "source": [
        "a = np.array([2,4,6,8,10])\n",
        "\n",
        "print(a.dtype)\n",
        "\n",
        "print(a.dtype.itemsize)"
      ],
      "metadata": {
        "colab": {
          "base_uri": "https://localhost:8080/"
        },
        "id": "uVQbFghLJ1kr",
        "outputId": "fb302d36-7c4b-4d93-da73-8f6e5216dc5d"
      },
      "id": "uVQbFghLJ1kr",
      "execution_count": 13,
      "outputs": [
        {
          "output_type": "stream",
          "name": "stdout",
          "text": [
            "int64\n",
            "8\n"
          ]
        }
      ]
    },
    {
      "cell_type": "code",
      "execution_count": 24,
      "id": "living-belfast",
      "metadata": {
        "id": "living-belfast",
        "outputId": "ed673b35-803b-435e-8106-e99b1b6c9b3a",
        "colab": {
          "base_uri": "https://localhost:8080/"
        }
      },
      "outputs": [
        {
          "output_type": "execute_result",
          "data": {
            "text/plain": [
              "dtype('float64')"
            ]
          },
          "metadata": {},
          "execution_count": 24
        }
      ],
      "source": [
        "A = np.array([1.5, 2])\n",
        "A.dtype"
      ]
    },
    {
      "cell_type": "markdown",
      "id": "least-hungarian",
      "metadata": {
        "id": "least-hungarian"
      },
      "source": [
        "Megadhatjuk a `dtype`-ot amikor létrehozzuk a tömböt."
      ]
    },
    {
      "cell_type": "code",
      "execution_count": 25,
      "id": "olympic-welding",
      "metadata": {
        "id": "olympic-welding",
        "outputId": "ceba18a1-7e13-4dc1-a6bd-f9ca407ac51a",
        "colab": {
          "base_uri": "https://localhost:8080/"
        }
      },
      "outputs": [
        {
          "output_type": "execute_result",
          "data": {
            "text/plain": [
              "array([10., 20.], dtype=float32)"
            ]
          },
          "metadata": {},
          "execution_count": 25
        }
      ],
      "source": [
        "np.array(['10', '20'], dtype=\"float32\")"
      ]
    },
    {
      "cell_type": "markdown",
      "id": "engaged-enough",
      "metadata": {
        "id": "engaged-enough"
      },
      "source": [
        "#### String tömbök"
      ]
    },
    {
      "cell_type": "code",
      "execution_count": 29,
      "id": "adaptive-joint",
      "metadata": {
        "id": "adaptive-joint",
        "outputId": "e073906e-db6e-4c9c-efc5-0806d27a5378",
        "colab": {
          "base_uri": "https://localhost:8080/"
        }
      },
      "outputs": [
        {
          "output_type": "stream",
          "name": "stdout",
          "text": [
            "['tűz' 'víz']\n",
            "(2,) <U3 <class 'numpy.ndarray'>\n"
          ]
        }
      ],
      "source": [
        "T = np.array(['tűz', 'víz'])\n",
        "print(T)\n",
        "print(T.shape, T.dtype, type(T))"
      ]
    },
    {
      "cell_type": "markdown",
      "id": "tamil-content",
      "metadata": {
        "id": "tamil-content"
      },
      "source": [
        "**Fix hosszúságú karakter tömböket tárol!!**"
      ]
    },
    {
      "cell_type": "code",
      "execution_count": 27,
      "id": "printable-authentication",
      "metadata": {
        "id": "printable-authentication",
        "outputId": "4b9624cc-bf9e-4f94-a4d1-2a7c61c843e6",
        "colab": {
          "base_uri": "https://localhost:8080/"
        }
      },
      "outputs": [
        {
          "output_type": "execute_result",
          "data": {
            "text/plain": [
              "array(['tűz', 'lev'], dtype='<U3')"
            ]
          },
          "metadata": {},
          "execution_count": 27
        }
      ],
      "source": [
        "T[1] = \"levegő\"\n",
        "T"
      ]
    },
    {
      "cell_type": "markdown",
      "id": "behind-auckland",
      "metadata": {
        "id": "behind-auckland"
      },
      "source": [
        "## Az elemek elérése\n",
        "\n",
        "#### Egy sor:"
      ]
    },
    {
      "cell_type": "code",
      "execution_count": 30,
      "id": "primary-rainbow",
      "metadata": {
        "id": "primary-rainbow",
        "outputId": "82ccb2cb-4609-498c-898c-48176a045575",
        "colab": {
          "base_uri": "https://localhost:8080/"
        }
      },
      "outputs": [
        {
          "output_type": "execute_result",
          "data": {
            "text/plain": [
              "array([[1, 2],\n",
              "       [3, 4],\n",
              "       [5, 6]])"
            ]
          },
          "metadata": {},
          "execution_count": 30
        }
      ],
      "source": [
        "A = np.array([[1, 2], [3, 4], [5, 6]])\n",
        "A"
      ]
    },
    {
      "cell_type": "code",
      "execution_count": 35,
      "id": "every-nickel",
      "metadata": {
        "id": "every-nickel",
        "outputId": "593235c9-902c-4bd7-8528-778280d158f5",
        "colab": {
          "base_uri": "https://localhost:8080/"
        }
      },
      "outputs": [
        {
          "output_type": "execute_result",
          "data": {
            "text/plain": [
              "(array([1, 2]), array([3, 4]), 3)"
            ]
          },
          "metadata": {},
          "execution_count": 35
        }
      ],
      "source": [
        "A[0], A[1], A[1,0]"
      ]
    },
    {
      "cell_type": "markdown",
      "id": "deadly-object",
      "metadata": {
        "id": "deadly-object"
      },
      "source": [
        "#### Egy oszlop:"
      ]
    },
    {
      "cell_type": "code",
      "execution_count": 33,
      "id": "published-transport",
      "metadata": {
        "id": "published-transport",
        "outputId": "a60e7ced-8d5e-4faa-9ab7-f98eff522040",
        "colab": {
          "base_uri": "https://localhost:8080/"
        }
      },
      "outputs": [
        {
          "output_type": "execute_result",
          "data": {
            "text/plain": [
              "array([1, 3, 5])"
            ]
          },
          "metadata": {},
          "execution_count": 33
        }
      ],
      "source": [
        "A[:, 0]"
      ]
    },
    {
      "cell_type": "markdown",
      "id": "fallen-audio",
      "metadata": {
        "id": "fallen-audio"
      },
      "source": [
        "#### egy elem:\n",
        "\n",
        "![image.png](data:image/png;base64,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)"
      ]
    },
    {
      "cell_type": "code",
      "execution_count": 36,
      "id": "bearing-charge",
      "metadata": {
        "id": "bearing-charge",
        "outputId": "63bd4d40-3682-4a60-a967-9149fee62b25",
        "colab": {
          "base_uri": "https://localhost:8080/"
        }
      },
      "outputs": [
        {
          "output_type": "execute_result",
          "data": {
            "text/plain": [
              "(6, 6, numpy.int64)"
            ]
          },
          "metadata": {},
          "execution_count": 36
        }
      ],
      "source": [
        "A[2][1], A[2, 1], type(A[2, 1])"
      ]
    },
    {
      "cell_type": "markdown",
      "id": "premium-burning",
      "metadata": {
        "id": "premium-burning"
      },
      "source": [
        "#### néhány sor vagy oszlop "
      ]
    },
    {
      "cell_type": "code",
      "execution_count": 37,
      "id": "welcome-chile",
      "metadata": {
        "id": "welcome-chile",
        "outputId": "7fd6d7b2-3fe1-4ab7-aaa2-b16efb7b6e6b",
        "colab": {
          "base_uri": "https://localhost:8080/"
        }
      },
      "outputs": [
        {
          "output_type": "execute_result",
          "data": {
            "text/plain": [
              "array([[1, 2],\n",
              "       [3, 4],\n",
              "       [5, 6]])"
            ]
          },
          "metadata": {},
          "execution_count": 37
        }
      ],
      "source": [
        "A = np.array([[1, 2], [3, 4], [5, 6]])\n",
        "A"
      ]
    },
    {
      "cell_type": "code",
      "execution_count": 38,
      "id": "welcome-breach",
      "metadata": {
        "id": "welcome-breach",
        "outputId": "b1b23e61-64fd-44f6-f0f5-5c0d89a70389",
        "colab": {
          "base_uri": "https://localhost:8080/"
        }
      },
      "outputs": [
        {
          "output_type": "execute_result",
          "data": {
            "text/plain": [
              "array([[1, 2],\n",
              "       [3, 4]])"
            ]
          },
          "metadata": {},
          "execution_count": 38
        }
      ],
      "source": [
        "A[:2]  # vagy A[:2, :]"
      ]
    },
    {
      "cell_type": "code",
      "execution_count": 39,
      "id": "physical-alfred",
      "metadata": {
        "id": "physical-alfred",
        "outputId": "267903a8-663e-4796-8a0b-c2f79cf9e87c",
        "colab": {
          "base_uri": "https://localhost:8080/"
        }
      },
      "outputs": [
        {
          "output_type": "execute_result",
          "data": {
            "text/plain": [
              "array([[2],\n",
              "       [4],\n",
              "       [6]])"
            ]
          },
          "metadata": {},
          "execution_count": 39
        }
      ],
      "source": [
        "A[:, 1:]"
      ]
    },
    {
      "cell_type": "code",
      "execution_count": null,
      "id": "heavy-fifteen",
      "metadata": {
        "id": "heavy-fifteen",
        "outputId": "c5bed9a8-9c4d-412c-9377-99f2534ce6d7",
        "colab": {
          "base_uri": "https://localhost:8080/"
        }
      },
      "outputs": [
        {
          "output_type": "execute_result",
          "data": {
            "text/plain": [
              "array([[1, 2],\n",
              "       [5, 6]])"
            ]
          },
          "metadata": {},
          "execution_count": 28
        }
      ],
      "source": [
        "A[::2]"
      ]
    },
    {
      "cell_type": "code",
      "execution_count": 40,
      "id": "interracial-lending",
      "metadata": {
        "id": "interracial-lending",
        "outputId": "5a524799-1ad7-418b-d81c-bde0075f387b",
        "colab": {
          "base_uri": "https://localhost:8080/"
        }
      },
      "outputs": [
        {
          "output_type": "execute_result",
          "data": {
            "text/plain": [
              "((1, 2, 3), 3)"
            ]
          },
          "metadata": {},
          "execution_count": 40
        }
      ],
      "source": [
        "B = np.array([[[1, 2, 3],[4, 5, 6]]]) #figyeljük a zárójeleket\n",
        "B.shape,  B.ndim"
      ]
    },
    {
      "cell_type": "code",
      "execution_count": 44,
      "id": "broadband-track",
      "metadata": {
        "id": "broadband-track",
        "outputId": "dbbcfae1-24a8-4903-a969-4f31a3d38b86",
        "colab": {
          "base_uri": "https://localhost:8080/"
        }
      },
      "outputs": [
        {
          "output_type": "execute_result",
          "data": {
            "text/plain": [
              "array([[[1, 2, 3],\n",
              "        [4, 5, 6]]])"
            ]
          },
          "metadata": {},
          "execution_count": 44
        }
      ],
      "source": [
        "B"
      ]
    },
    {
      "cell_type": "code",
      "execution_count": 45,
      "id": "acceptable-eligibility",
      "metadata": {
        "id": "acceptable-eligibility",
        "outputId": "48b8e19d-6705-4776-bbaa-d960b218b8fc",
        "colab": {
          "base_uri": "https://localhost:8080/"
        }
      },
      "outputs": [
        {
          "output_type": "execute_result",
          "data": {
            "text/plain": [
              "(2, 3)"
            ]
          },
          "metadata": {},
          "execution_count": 45
        }
      ],
      "source": [
        "B[0].shape"
      ]
    },
    {
      "cell_type": "code",
      "execution_count": null,
      "id": "oriented-notebook",
      "metadata": {
        "id": "oriented-notebook",
        "outputId": "d757e4ef-c186-4525-890e-d0ba56aa4914",
        "colab": {
          "base_uri": "https://localhost:8080/"
        }
      },
      "outputs": [
        {
          "output_type": "execute_result",
          "data": {
            "text/plain": [
              "(array([4, 5, 6]), (3,))"
            ]
          },
          "metadata": {},
          "execution_count": 32
        }
      ],
      "source": [
        "B[0, 1], B[0, 1].shape"
      ]
    },
    {
      "cell_type": "code",
      "execution_count": null,
      "id": "infectious-pizza",
      "metadata": {
        "id": "infectious-pizza",
        "outputId": "807c1189-dfce-4da9-ce3d-5762adeabe23",
        "colab": {
          "base_uri": "https://localhost:8080/"
        }
      },
      "outputs": [
        {
          "output_type": "execute_result",
          "data": {
            "text/plain": [
              "6"
            ]
          },
          "metadata": {},
          "execution_count": 33
        }
      ],
      "source": [
        "B[0, 1, 2] # első dimenzió 0. eleme, második dimenzió 1. eleme, ..."
      ]
    },
    {
      "cell_type": "markdown",
      "id": "auburn-anchor",
      "metadata": {
        "id": "auburn-anchor"
      },
      "source": [
        "# Operációk\n",
        "\n",
        "## Elemenkénti műveletek\n",
        "\n",
        "A leggyakrabban használt matematikai fügvények is elérhetőek és elemenként hatnak."
      ]
    },
    {
      "cell_type": "code",
      "execution_count": 46,
      "id": "portuguese-tiffany",
      "metadata": {
        "id": "portuguese-tiffany",
        "outputId": "017a3bf2-3f48-44ee-b9fd-a925707aa4a2",
        "colab": {
          "base_uri": "https://localhost:8080/"
        }
      },
      "outputs": [
        {
          "output_type": "stream",
          "name": "stdout",
          "text": [
            "[[1 2]\n",
            " [3 4]\n",
            " [5 6]]\n"
          ]
        },
        {
          "output_type": "execute_result",
          "data": {
            "text/plain": [
              "array([[ 2,  4],\n",
              "       [ 6,  8],\n",
              "       [10, 12]])"
            ]
          },
          "metadata": {},
          "execution_count": 46
        }
      ],
      "source": [
        "A = np.array([[1, 2], [3, 4], [5, 6]])\n",
        "print(A)\n",
        "A + A"
      ]
    },
    {
      "cell_type": "code",
      "execution_count": 47,
      "id": "historical-account",
      "metadata": {
        "id": "historical-account",
        "outputId": "53e16622-3bd7-48d0-a987-5e447758a42c",
        "colab": {
          "base_uri": "https://localhost:8080/"
        }
      },
      "outputs": [
        {
          "output_type": "execute_result",
          "data": {
            "text/plain": [
              "array([[ 1,  4],\n",
              "       [ 9, 16],\n",
              "       [25, 36]])"
            ]
          },
          "metadata": {},
          "execution_count": 47
        }
      ],
      "source": [
        "A * A"
      ]
    },
    {
      "cell_type": "code",
      "execution_count": 48,
      "id": "miniature-petite",
      "metadata": {
        "id": "miniature-petite",
        "outputId": "0b93fc12-3841-4774-82c8-04574f4fb10c",
        "colab": {
          "base_uri": "https://localhost:8080/"
        }
      },
      "outputs": [
        {
          "output_type": "stream",
          "name": "stdout",
          "text": [
            "[[  2.71828183   7.3890561 ]\n",
            " [ 20.08553692  54.59815003]\n",
            " [148.4131591  403.42879349]]\n",
            "[[5.00000000e-01 8.66025404e-01]\n",
            " [1.00000000e+00 8.66025404e-01]\n",
            " [5.00000000e-01 1.22464680e-16]]\n",
            "[[ 2  4]\n",
            " [ 8 16]\n",
            " [32 64]]\n",
            "[[1.         0.5       ]\n",
            " [0.33333333 0.25      ]\n",
            " [0.2        0.16666667]]\n"
          ]
        }
      ],
      "source": [
        "print(np.exp(A))\n",
        "print(np.sin(A*np.pi/6))\n",
        "print(2**A)\n",
        "print(1/A)"
      ]
    },
    {
      "cell_type": "markdown",
      "id": "hindu-tuning",
      "metadata": {
        "id": "hindu-tuning"
      },
      "source": [
        "### Logikai műveletek"
      ]
    },
    {
      "cell_type": "code",
      "execution_count": 49,
      "id": "premium-violin",
      "metadata": {
        "id": "premium-violin",
        "outputId": "d4f0552c-156a-4618-95a0-87e0343353fe",
        "colab": {
          "base_uri": "https://localhost:8080/"
        }
      },
      "outputs": [
        {
          "output_type": "execute_result",
          "data": {
            "text/plain": [
              "array([1, 0, 1, 0])"
            ]
          },
          "metadata": {},
          "execution_count": 49
        }
      ],
      "source": [
        "A=np.array([1,1,1,0]) & np.array([1,0,1,1]) # logikai és elemenként\n",
        "A"
      ]
    },
    {
      "cell_type": "code",
      "execution_count": 53,
      "id": "thousand-floating",
      "metadata": {
        "id": "thousand-floating",
        "outputId": "41ed2e06-44b4-40ae-b67d-48707df70d70",
        "colab": {
          "base_uri": "https://localhost:8080/"
        }
      },
      "outputs": [
        {
          "output_type": "execute_result",
          "data": {
            "text/plain": [
              "array([1, 1, 1, 1])"
            ]
          },
          "metadata": {},
          "execution_count": 53
        }
      ],
      "source": [
        "A=np.array([1,1,1,0]) | np.array([1,0,1,1]) # logikai vagy elemenként\n",
        "A"
      ]
    },
    {
      "cell_type": "code",
      "execution_count": 54,
      "id": "familiar-attitude",
      "metadata": {
        "id": "familiar-attitude",
        "outputId": "41b299b5-427c-4930-ea1c-8354c1fb2fae",
        "colab": {
          "base_uri": "https://localhost:8080/"
        }
      },
      "outputs": [
        {
          "output_type": "stream",
          "name": "stdout",
          "text": [
            "[[False  True]\n",
            " [ True  True]]\n",
            "bool\n"
          ]
        }
      ],
      "source": [
        "A = np.array([[1, 3], [2, 4]]) \n",
        "P = (A >= 2) # elemenkénti logikai vizsgálat az eredmény\n",
        "print(P)\n",
        "print(P.dtype)"
      ]
    },
    {
      "cell_type": "markdown",
      "id": "equal-story",
      "metadata": {
        "id": "equal-story"
      },
      "source": [
        "## Indexelés listákkal\n",
        "\n",
        "Egy listával vagy tömbbel fogjuk megadni, hogy hanyadik elemeket szeretnénk.\n"
      ]
    },
    {
      "cell_type": "code",
      "execution_count": 55,
      "id": "sweet-mumbai",
      "metadata": {
        "id": "sweet-mumbai"
      },
      "outputs": [],
      "source": [
        "B = np.array([\"a\",\"b\",\"c\",\"d\",\"e\",\"f\",\"g\"])"
      ]
    },
    {
      "cell_type": "code",
      "execution_count": null,
      "id": "stuffed-unemployment",
      "metadata": {
        "id": "stuffed-unemployment",
        "outputId": "7a53ede4-06ea-4192-ba44-30cfa5714db1",
        "colab": {
          "base_uri": "https://localhost:8080/"
        }
      },
      "outputs": [
        {
          "output_type": "execute_result",
          "data": {
            "text/plain": [
              "array(['a', 'c', 'f', 'g'], dtype='<U1')"
            ]
          },
          "metadata": {},
          "execution_count": 70
        }
      ],
      "source": [
        "np.array([B[0],B[2],B[5],B[6]]) #az eredmény is tömb"
      ]
    },
    {
      "cell_type": "code",
      "execution_count": 56,
      "id": "different-description",
      "metadata": {
        "id": "different-description",
        "outputId": "5dc09f56-e752-40d8-f6ea-fd72d61b5239",
        "colab": {
          "base_uri": "https://localhost:8080/"
        }
      },
      "outputs": [
        {
          "output_type": "execute_result",
          "data": {
            "text/plain": [
              "array(['a', 'c', 'f', 'g'], dtype='<U1')"
            ]
          },
          "metadata": {},
          "execution_count": 56
        }
      ],
      "source": [
        "B[[0,2,5,6]]            #indexelés listával "
      ]
    },
    {
      "cell_type": "code",
      "execution_count": 57,
      "id": "hairy-liechtenstein",
      "metadata": {
        "id": "hairy-liechtenstein",
        "outputId": "93728f98-a200-4235-8351-a20b261744c3",
        "colab": {
          "base_uri": "https://localhost:8080/"
        }
      },
      "outputs": [
        {
          "output_type": "execute_result",
          "data": {
            "text/plain": [
              "array(['a', 'c', 'f', 'g'], dtype='<U1')"
            ]
          },
          "metadata": {},
          "execution_count": 57
        }
      ],
      "source": [
        "B[np.array([0,2,5,6])]  #tömbbel is működik ajánlott ezt használni"
      ]
    },
    {
      "cell_type": "markdown",
      "id": "suffering-train",
      "metadata": {
        "id": "suffering-train"
      },
      "source": [
        "Több dimenzióban komplikálódnak a dolgok.\n",
        "\n",
        "Ha egyetlen index tömbbel indexelünk, annak elemei megfelelnek M első kordináta szerint vett elemeinek. \n"
      ]
    },
    {
      "cell_type": "code",
      "execution_count": 58,
      "id": "descending-costs",
      "metadata": {
        "id": "descending-costs",
        "outputId": "363c8de1-ebcc-4a6b-9284-15eb5d6507ac",
        "colab": {
          "base_uri": "https://localhost:8080/"
        }
      },
      "outputs": [
        {
          "output_type": "execute_result",
          "data": {
            "text/plain": [
              "array([[ 0,  1,  2,  3],\n",
              "       [ 4,  5,  6,  7],\n",
              "       [ 8,  9, 10, 11]])"
            ]
          },
          "metadata": {},
          "execution_count": 58
        }
      ],
      "source": [
        "M = np.arange(12).reshape(3,4)\n",
        "M"
      ]
    },
    {
      "cell_type": "code",
      "source": [
        "np.array([[0,1],[2,2]])"
      ],
      "metadata": {
        "colab": {
          "base_uri": "https://localhost:8080/"
        },
        "id": "JNDt5KHpszyf",
        "outputId": "61b78738-19a2-41c5-f3e9-8adda486d3bb"
      },
      "id": "JNDt5KHpszyf",
      "execution_count": 63,
      "outputs": [
        {
          "output_type": "execute_result",
          "data": {
            "text/plain": [
              "array([[0, 1],\n",
              "       [2, 2]])"
            ]
          },
          "metadata": {},
          "execution_count": 63
        }
      ]
    },
    {
      "cell_type": "code",
      "execution_count": 64,
      "id": "spread-palestine",
      "metadata": {
        "id": "spread-palestine",
        "outputId": "9f8f590a-8a8f-4ab4-c999-8ce5f285894e",
        "colab": {
          "base_uri": "https://localhost:8080/"
        }
      },
      "outputs": [
        {
          "output_type": "execute_result",
          "data": {
            "text/plain": [
              "array([[[ 0,  1,  2,  3],\n",
              "        [ 4,  5,  6,  7]],\n",
              "\n",
              "       [[ 8,  9, 10, 11],\n",
              "        [ 8,  9, 10, 11]]])"
            ]
          },
          "metadata": {},
          "execution_count": 64
        }
      ],
      "source": [
        "M[np.array([[0,1],[2,2]])] #Az M tömb sorai kerülnek az új tömbbe"
      ]
    },
    {
      "cell_type": "markdown",
      "id": "charming-adrian",
      "metadata": {
        "id": "charming-adrian"
      },
      "source": [
        "Ha több index tömbbel indexelünk, akkor az első az első koordinátnak a második a másodiknak, ...  felel meg. "
      ]
    },
    {
      "cell_type": "code",
      "execution_count": 65,
      "id": "efficient-arctic",
      "metadata": {
        "id": "efficient-arctic",
        "outputId": "a33e883d-61b0-4d75-f067-d801a400052c",
        "colab": {
          "base_uri": "https://localhost:8080/"
        }
      },
      "outputs": [
        {
          "output_type": "execute_result",
          "data": {
            "text/plain": [
              "array([2, 6, 4])"
            ]
          },
          "metadata": {},
          "execution_count": 65
        }
      ],
      "source": [
        "np.array([M[0][2],M[1][2],M[1][0]]) # két indexet is megadtunk pl 0 --> 0. sor 2 --> 2. elem indexek 0-tól indulnak!"
      ]
    },
    {
      "cell_type": "code",
      "execution_count": 66,
      "id": "stupid-score",
      "metadata": {
        "id": "stupid-score",
        "outputId": "c69de759-d4eb-4ed5-8d12-1e3728437d7f",
        "colab": {
          "base_uri": "https://localhost:8080/"
        }
      },
      "outputs": [
        {
          "output_type": "execute_result",
          "data": {
            "text/plain": [
              "array([2, 6, 4])"
            ]
          },
          "metadata": {},
          "execution_count": 66
        }
      ],
      "source": [
        "np.array([M[0,2],M[1,2],M[1,0]])"
      ]
    },
    {
      "cell_type": "code",
      "execution_count": 70,
      "id": "olive-sculpture",
      "metadata": {
        "id": "olive-sculpture",
        "outputId": "a6ea0478-0e22-4060-a7d1-bd1fabebbb76",
        "colab": {
          "base_uri": "https://localhost:8080/"
        }
      },
      "outputs": [
        {
          "output_type": "execute_result",
          "data": {
            "text/plain": [
              "array([2, 6, 4])"
            ]
          },
          "metadata": {},
          "execution_count": 70
        }
      ],
      "source": [
        "M[np.array([0,1,1]),np.array([2,2,0])] #Első tömb tartalmazza az elsőkoordinátákat, második tömb második koordinátákat"
      ]
    },
    {
      "cell_type": "code",
      "execution_count": 69,
      "id": "rapid-lover",
      "metadata": {
        "scrolled": true,
        "id": "rapid-lover",
        "outputId": "70f56706-2a29-4b09-87b2-792e3c059250",
        "colab": {
          "base_uri": "https://localhost:8080/"
        }
      },
      "outputs": [
        {
          "output_type": "execute_result",
          "data": {
            "text/plain": [
              "array([[ 1,  4],\n",
              "       [ 9, 11]])"
            ]
          },
          "metadata": {},
          "execution_count": 69
        }
      ],
      "source": [
        "np.array([[M[0,1],M[1,0]],[M[2,1],M[2,3]]])"
      ]
    },
    {
      "cell_type": "code",
      "execution_count": 71,
      "id": "parliamentary-watson",
      "metadata": {
        "id": "parliamentary-watson",
        "outputId": "1392ebab-b8b3-40fa-e8ec-7a0a4b8f987e",
        "colab": {
          "base_uri": "https://localhost:8080/"
        }
      },
      "outputs": [
        {
          "output_type": "execute_result",
          "data": {
            "text/plain": [
              "array([[ 1,  4],\n",
              "       [ 9, 11]])"
            ]
          },
          "metadata": {},
          "execution_count": 71
        }
      ],
      "source": [
        "M[np.array([[0,1],[2,2]]),np.array([[1,0],[1,3]])]  # Első tömb elsőkoordináták, második tömb második koordináták"
      ]
    },
    {
      "cell_type": "code",
      "source": [
        "np.array([[0,1],[2,2]]),np.array([[1,0],[1,3]])"
      ],
      "metadata": {
        "colab": {
          "base_uri": "https://localhost:8080/"
        },
        "id": "2cQg9XCkvPba",
        "outputId": "5e39f938-7822-4be0-c8da-72360dfaf669"
      },
      "id": "2cQg9XCkvPba",
      "execution_count": 72,
      "outputs": [
        {
          "output_type": "execute_result",
          "data": {
            "text/plain": [
              "(array([[0, 1],\n",
              "        [2, 2]]), array([[1, 0],\n",
              "        [1, 3]]))"
            ]
          },
          "metadata": {},
          "execution_count": 72
        }
      ]
    },
    {
      "cell_type": "code",
      "execution_count": 73,
      "id": "substantial-volunteer",
      "metadata": {
        "id": "substantial-volunteer",
        "outputId": "818a4612-d200-4d6c-aca2-d9fb65c63ecb",
        "colab": {
          "base_uri": "https://localhost:8080/"
        }
      },
      "outputs": [
        {
          "output_type": "execute_result",
          "data": {
            "text/plain": [
              "array([[ 1,  3],\n",
              "       [ 5,  7],\n",
              "       [ 9, 11]])"
            ]
          },
          "metadata": {},
          "execution_count": 73
        }
      ],
      "source": [
        "M[:,[1,3]] # első koordinátából mindent veszünk 2. koordinátából az elsőt és a harmadikat vesszük (ezeket az oszlopokat vesszük)"
      ]
    },
    {
      "cell_type": "code",
      "execution_count": 74,
      "id": "solved-plenty",
      "metadata": {
        "id": "solved-plenty",
        "outputId": "c0f122ce-65ae-4ddd-ed23-f175feb9ffda",
        "colab": {
          "base_uri": "https://localhost:8080/"
        }
      },
      "outputs": [
        {
          "output_type": "execute_result",
          "data": {
            "text/plain": [
              "array([[ 4,  5,  6,  7],\n",
              "       [ 8,  9, 10, 11]])"
            ]
          },
          "metadata": {},
          "execution_count": 74
        }
      ],
      "source": [
        "M[[1,2],:] # ugyanez sorokkal"
      ]
    },
    {
      "cell_type": "markdown",
      "id": "understanding-permission",
      "metadata": {
        "id": "understanding-permission"
      },
      "source": [
        "Többször is kiválaszthatjuk ugyanazt a sort vagy oszlopot:"
      ]
    },
    {
      "cell_type": "code",
      "execution_count": 75,
      "id": "tested-niger",
      "metadata": {
        "id": "tested-niger",
        "outputId": "77c94e66-495c-4b3d-965d-ae55c6804a64",
        "colab": {
          "base_uri": "https://localhost:8080/"
        }
      },
      "outputs": [
        {
          "output_type": "execute_result",
          "data": {
            "text/plain": [
              "array([[ 8,  9, 10, 11],\n",
              "       [ 4,  5,  6,  7],\n",
              "       [ 8,  9, 10, 11]])"
            ]
          },
          "metadata": {},
          "execution_count": 75
        }
      ],
      "source": [
        "M[[2,1,2],:]"
      ]
    },
    {
      "cell_type": "markdown",
      "id": "piano-expansion",
      "metadata": {
        "id": "piano-expansion"
      },
      "source": [
        "Többdimenziós lekérdezések: https://docs.scipy.org/doc/numpy/reference/arrays.indexing.html"
      ]
    },
    {
      "cell_type": "markdown",
      "id": "restricted-somalia",
      "metadata": {
        "id": "restricted-somalia"
      },
      "source": [
        "## A tömb alakjának megváltoztatása\n",
        "\n",
        "A `reshape` függvénnyel megváltoztathatjuk a tömb alakját anélkül, hogy a tartalmazott elemek megváltoznának, vagy akár lemásolódnának a hattérben. "
      ]
    },
    {
      "cell_type": "code",
      "execution_count": 76,
      "id": "motivated-legend",
      "metadata": {
        "id": "motivated-legend",
        "outputId": "8a22f4c1-7c58-4ac9-db70-2b1171bb45a9",
        "colab": {
          "base_uri": "https://localhost:8080/"
        }
      },
      "outputs": [
        {
          "output_type": "execute_result",
          "data": {
            "text/plain": [
              "array([[1, 2, 3],\n",
              "       [4, 5, 6]])"
            ]
          },
          "metadata": {},
          "execution_count": 76
        }
      ],
      "source": [
        "B = np.array([[[1, 2, 3], [4, 5, 6]]]) # 1*2*3-as tömb\n",
        "B.reshape((2, 3)) # gyors művelet mert nem változtatja az adatokat"
      ]
    },
    {
      "cell_type": "code",
      "execution_count": 77,
      "id": "joint-mention",
      "metadata": {
        "id": "joint-mention",
        "outputId": "15e7893c-d2f4-43c0-c1c4-d8feb8de5690",
        "colab": {
          "base_uri": "https://localhost:8080/"
        }
      },
      "outputs": [
        {
          "output_type": "execute_result",
          "data": {
            "text/plain": [
              "array([[1, 2],\n",
              "       [3, 4],\n",
              "       [5, 6]])"
            ]
          },
          "metadata": {},
          "execution_count": 77
        }
      ],
      "source": [
        "B.reshape((3, 2))"
      ]
    },
    {
      "cell_type": "markdown",
      "id": "intellectual-burden",
      "metadata": {
        "id": "intellectual-burden"
      },
      "source": [
        " `ValueError` hibát kapunk ha rosz alakot adunk meg."
      ]
    },
    {
      "cell_type": "code",
      "execution_count": 78,
      "id": "broke-chancellor",
      "metadata": {
        "id": "broke-chancellor",
        "colab": {
          "base_uri": "https://localhost:8080/",
          "height": 165
        },
        "outputId": "699dc84c-6792-48d1-cd16-261714d66886"
      },
      "outputs": [
        {
          "output_type": "error",
          "ename": "ValueError",
          "evalue": "ignored",
          "traceback": [
            "\u001b[0;31m---------------------------------------------------------------------------\u001b[0m",
            "\u001b[0;31mValueError\u001b[0m                                Traceback (most recent call last)",
            "\u001b[0;32m<ipython-input-78-67e9c36af119>\u001b[0m in \u001b[0;36m<module>\u001b[0;34m\u001b[0m\n\u001b[0;32m----> 1\u001b[0;31m \u001b[0mB\u001b[0m\u001b[0;34m.\u001b[0m\u001b[0mreshape\u001b[0m\u001b[0;34m(\u001b[0m\u001b[0;36m7\u001b[0m\u001b[0;34m)\u001b[0m  \u001b[0;31m# raises ValueError\u001b[0m\u001b[0;34m\u001b[0m\u001b[0;34m\u001b[0m\u001b[0m\n\u001b[0m",
            "\u001b[0;31mValueError\u001b[0m: cannot reshape array of size 6 into shape (7,)"
          ]
        }
      ],
      "source": [
        "B.reshape(7)  # raises ValueError"
      ]
    },
    {
      "cell_type": "code",
      "execution_count": 79,
      "id": "italian-australia",
      "metadata": {
        "id": "italian-australia",
        "outputId": "bb62081f-fc42-495b-e7fa-f9a7a8d3a652",
        "colab": {
          "base_uri": "https://localhost:8080/"
        }
      },
      "outputs": [
        {
          "output_type": "execute_result",
          "data": {
            "text/plain": [
              "array([[[0, 1, 2],\n",
              "        [3, 4, 5]]])"
            ]
          },
          "metadata": {},
          "execution_count": 79
        }
      ],
      "source": [
        "np.array(range(6)).reshape((1, 2, 3))"
      ]
    },
    {
      "cell_type": "markdown",
      "id": "major-value",
      "metadata": {
        "id": "major-value"
      },
      "source": [
        "Ha `-1`-et adunk meg, megpróbálja kitalálni, hogy annak a dimenziónak mekkorának kell lennie az elemek száma alapján."
      ]
    },
    {
      "cell_type": "code",
      "execution_count": 80,
      "id": "mediterranean-neighborhood",
      "metadata": {
        "id": "mediterranean-neighborhood",
        "outputId": "ee5188e0-5fe4-4ea6-ed27-8aa955564586",
        "colab": {
          "base_uri": "https://localhost:8080/"
        }
      },
      "outputs": [
        {
          "output_type": "stream",
          "name": "stdout",
          "text": [
            "X.shape: (2, 3, 2)\n",
            "[[[ 0  1]\n",
            "  [ 2  3]\n",
            "  [ 4  5]]\n",
            "\n",
            " [[ 6  7]\n",
            "  [ 8  9]\n",
            "  [10 11]]]\n"
          ]
        }
      ],
      "source": [
        "X = np.array(range(12)).reshape((2, -1, 2))\n",
        "print(\"X.shape:\", X.shape)\n",
        "print(X)"
      ]
    },
    {
      "cell_type": "markdown",
      "id": "minute-belly",
      "metadata": {
        "id": "minute-belly"
      },
      "source": [
        "A `resize` akkor is működik, ha az elemek száma nem passzol. Ilyenkor töröl, vagy feltölt nullákkal. Magát a tömböt változtatja meg."
      ]
    },
    {
      "cell_type": "code",
      "execution_count": 81,
      "id": "usual-remove",
      "metadata": {
        "id": "usual-remove",
        "outputId": "19de8613-5c86-4817-9b5a-53065f5f8b6f",
        "colab": {
          "base_uri": "https://localhost:8080/"
        }
      },
      "outputs": [
        {
          "output_type": "execute_result",
          "data": {
            "text/plain": [
              "array([[1, 2]])"
            ]
          },
          "metadata": {},
          "execution_count": 81
        }
      ],
      "source": [
        "X = np.array([[1, 2], [3, 4]]) #a resize levág vagy 0-kal egészít ki\n",
        "X.resize((5, 3))\n",
        "X.resize((1, 2))\n",
        "X"
      ]
    },
    {
      "cell_type": "markdown",
      "id": "universal-arcade",
      "metadata": {
        "id": "universal-arcade"
      },
      "source": [
        "# Tömbök létrehozása"
      ]
    },
    {
      "cell_type": "markdown",
      "id": "sacred-grave",
      "metadata": {
        "id": "sacred-grave"
      },
      "source": [
        "Ritkán akarjuk egyesével megadni az elemeket, ezért van egy csomó gyorsabb módszer:\n",
        "\n",
        "* `arange`: range megfelelője csak nem listát hoz létre, hanem tömböt.\n",
        "* `linspace`: egyenletesen felosztott intervallum\n",
        "* `ones`, `ones_like`, csupa egyes\n",
        "* `zeros`, `zeros_like`, csupa nulla\n",
        "* `eye`: indetitás mátrix 2 dimenzióban\n",
        "* `fromfunction` függvény alapján\n",
        "\n",
        "Az `np.ones_like()` és `np.zeros_like()` függvények megtartják a formát és a `dtype`-ot!"
      ]
    },
    {
      "cell_type": "code",
      "execution_count": 82,
      "id": "outdoor-lightweight",
      "metadata": {
        "id": "outdoor-lightweight",
        "outputId": "592d3134-547e-4116-a25e-e3ce7209e3b7",
        "colab": {
          "base_uri": "https://localhost:8080/"
        }
      },
      "outputs": [
        {
          "output_type": "execute_result",
          "data": {
            "text/plain": [
              "(array([0, 1, 2, 3, 4, 5, 6, 7, 8, 9]), (10,))"
            ]
          },
          "metadata": {},
          "execution_count": 82
        }
      ],
      "source": [
        "np.arange(10), np.arange(10).shape"
      ]
    },
    {
      "cell_type": "code",
      "execution_count": 83,
      "id": "guilty-trainer",
      "metadata": {
        "id": "guilty-trainer",
        "outputId": "865cdd85-2e5d-45c4-c8b3-c8b80a70962f",
        "colab": {
          "base_uri": "https://localhost:8080/"
        }
      },
      "outputs": [
        {
          "output_type": "execute_result",
          "data": {
            "text/plain": [
              "array([[ 1,  3],\n",
              "       [ 5,  7],\n",
              "       [ 9, 11],\n",
              "       [13, 15],\n",
              "       [17, 19]])"
            ]
          },
          "metadata": {},
          "execution_count": 83
        }
      ],
      "source": [
        "np.arange(1, 21, 2).reshape(5, -1) #minden 2. értéket veszi fel a range parancsnál"
      ]
    },
    {
      "cell_type": "code",
      "execution_count": 84,
      "id": "unknown-dancing",
      "metadata": {
        "id": "unknown-dancing",
        "outputId": "0a5742cb-ed2d-42b4-ff41-4c6720e6f142",
        "colab": {
          "base_uri": "https://localhost:8080/"
        }
      },
      "outputs": [
        {
          "output_type": "execute_result",
          "data": {
            "text/plain": [
              "array([2. , 2.2, 2.4, 2.6, 2.8, 3. , 3.2, 3.4, 3.6, 3.8, 4. ])"
            ]
          },
          "metadata": {},
          "execution_count": 84
        }
      ],
      "source": [
        "np.linspace(2, 4, 11) #tól ig db"
      ]
    },
    {
      "cell_type": "code",
      "execution_count": 85,
      "id": "favorite-grenada",
      "metadata": {
        "id": "favorite-grenada",
        "outputId": "eef7ec90-5bff-441c-b3b6-3aeda5f60732",
        "colab": {
          "base_uri": "https://localhost:8080/"
        }
      },
      "outputs": [
        {
          "output_type": "execute_result",
          "data": {
            "text/plain": [
              "array([[1., 1.],\n",
              "       [1., 1.],\n",
              "       [1., 1.]])"
            ]
          },
          "metadata": {},
          "execution_count": 85
        }
      ],
      "source": [
        "np.ones((3, 2)) "
      ]
    },
    {
      "cell_type": "code",
      "execution_count": 86,
      "id": "inappropriate-example",
      "metadata": {
        "id": "inappropriate-example",
        "outputId": "36f68541-bfaf-43fe-a274-755d582109a6",
        "colab": {
          "base_uri": "https://localhost:8080/"
        }
      },
      "outputs": [
        {
          "output_type": "execute_result",
          "data": {
            "text/plain": [
              "array([[[0., 0.],\n",
              "        [0., 0.],\n",
              "        [0., 0.]],\n",
              "\n",
              "       [[0., 0.],\n",
              "        [0., 0.],\n",
              "        [0., 0.]]])"
            ]
          },
          "metadata": {},
          "execution_count": 86
        }
      ],
      "source": [
        "np.zeros((2, 3, 2))"
      ]
    },
    {
      "cell_type": "code",
      "execution_count": 87,
      "id": "favorite-transcription",
      "metadata": {
        "id": "favorite-transcription",
        "outputId": "fcffd8da-3ddc-467a-bc3d-1b5c7ecf09a2",
        "colab": {
          "base_uri": "https://localhost:8080/"
        }
      },
      "outputs": [
        {
          "output_type": "execute_result",
          "data": {
            "text/plain": [
              "array([[0, 0],\n",
              "       [0, 0],\n",
              "       [0, 0]])"
            ]
          },
          "metadata": {},
          "execution_count": 87
        }
      ],
      "source": [
        "A = np.arange(6).reshape(3, -1)\n",
        "np.zeros_like(A) # olyan 0-kal feltötltött tömb aminek az alakja olyan mint A\n"
      ]
    },
    {
      "cell_type": "code",
      "execution_count": 88,
      "id": "reasonable-apple",
      "metadata": {
        "id": "reasonable-apple",
        "outputId": "3610942b-d651-4f96-ebbb-2a924cdba17a",
        "colab": {
          "base_uri": "https://localhost:8080/"
        }
      },
      "outputs": [
        {
          "output_type": "execute_result",
          "data": {
            "text/plain": [
              "array([[1., 0., 0., 0., 0.],\n",
              "       [0., 1., 0., 0., 0.],\n",
              "       [0., 0., 1., 0., 0.],\n",
              "       [0., 0., 0., 1., 0.],\n",
              "       [0., 0., 0., 0., 1.]])"
            ]
          },
          "metadata": {},
          "execution_count": 88
        }
      ],
      "source": [
        "np.eye(5) # egységmátrix"
      ]
    },
    {
      "cell_type": "code",
      "execution_count": 89,
      "id": "structured-university",
      "metadata": {
        "id": "structured-university",
        "outputId": "97906c87-9769-4024-bd5a-4f9bc8fc8d63",
        "colab": {
          "base_uri": "https://localhost:8080/"
        }
      },
      "outputs": [
        {
          "output_type": "execute_result",
          "data": {
            "text/plain": [
              "array([[ True, False, False, False],\n",
              "       [False,  True, False, False],\n",
              "       [False, False,  True, False],\n",
              "       [False, False, False,  True]])"
            ]
          },
          "metadata": {},
          "execution_count": 89
        }
      ],
      "source": [
        "np.eye(4, dtype=bool) # egységmátrix bool értékekkel"
      ]
    },
    {
      "cell_type": "markdown",
      "id": "technical-cheat",
      "metadata": {
        "id": "technical-cheat"
      },
      "source": [
        "Az egyik leghasznosabb, hogy az indexek függvényében is definiálhatjuk a tömböt:"
      ]
    },
    {
      "cell_type": "code",
      "execution_count": 90,
      "id": "quality-longitude",
      "metadata": {
        "id": "quality-longitude",
        "outputId": "177dcea8-0f3d-4117-e856-09120468b21a",
        "colab": {
          "base_uri": "https://localhost:8080/"
        }
      },
      "outputs": [
        {
          "output_type": "execute_result",
          "data": {
            "text/plain": [
              "array([[ True, False, False],\n",
              "       [False,  True, False],\n",
              "       [False, False,  True]])"
            ]
          },
          "metadata": {},
          "execution_count": 90
        }
      ],
      "source": [
        "np.fromfunction(lambda i, j: i == j, (3, 3)) # megadunk egy fgv-t két változóval i, j minden egyes koordinátánál a fgv eredményét adja"
      ]
    },
    {
      "cell_type": "code",
      "source": [
        "def szamol(i,j):\n",
        "  return i*100+j"
      ],
      "metadata": {
        "id": "RAnGiGPi6JXK"
      },
      "id": "RAnGiGPi6JXK",
      "execution_count": 91,
      "outputs": []
    },
    {
      "cell_type": "code",
      "execution_count": 92,
      "id": "taken-parcel",
      "metadata": {
        "id": "taken-parcel",
        "outputId": "f5d9fe00-96b5-448a-d6ed-7763aabbc23c",
        "colab": {
          "base_uri": "https://localhost:8080/"
        }
      },
      "outputs": [
        {
          "output_type": "execute_result",
          "data": {
            "text/plain": [
              "array([[  0.,   1.,   2.,   3.,   4.],\n",
              "       [100., 101., 102., 103., 104.],\n",
              "       [200., 201., 202., 203., 204.],\n",
              "       [300., 301., 302., 303., 304.],\n",
              "       [400., 401., 402., 403., 404.]])"
            ]
          },
          "metadata": {},
          "execution_count": 92
        }
      ],
      "source": [
        "np.fromfunction(lambda i,j: 100*i+j, (5,5)) # lambda a név nélküli fgv. lehet más is"
      ]
    },
    {
      "cell_type": "code",
      "source": [
        "np.fromfunction(szamol, (5,5)) # lambda a név nélküli fgv. lehet más is"
      ],
      "metadata": {
        "colab": {
          "base_uri": "https://localhost:8080/"
        },
        "id": "08wxDfJo6VyY",
        "outputId": "17564aa6-6c65-45ed-f30a-1f495db1e7ef"
      },
      "id": "08wxDfJo6VyY",
      "execution_count": 93,
      "outputs": [
        {
          "output_type": "execute_result",
          "data": {
            "text/plain": [
              "array([[  0.,   1.,   2.,   3.,   4.],\n",
              "       [100., 101., 102., 103., 104.],\n",
              "       [200., 201., 202., 203., 204.],\n",
              "       [300., 301., 302., 303., 304.],\n",
              "       [400., 401., 402., 403., 404.]])"
            ]
          },
          "metadata": {},
          "execution_count": 93
        }
      ]
    },
    {
      "cell_type": "markdown",
      "id": "roman-nepal",
      "metadata": {
        "id": "roman-nepal"
      },
      "source": [
        "## Tömbök összeragasztása\n",
        "\n",
        "Bármelyik dimenzió szerint ragaszthatunk, ha megfelelőek a dimenziók."
      ]
    },
    {
      "cell_type": "code",
      "execution_count": 94,
      "id": "toxic-claim",
      "metadata": {
        "id": "toxic-claim",
        "outputId": "b77ce659-6dcc-4435-f5db-55eb0f5c96e5",
        "colab": {
          "base_uri": "https://localhost:8080/"
        }
      },
      "outputs": [
        {
          "output_type": "execute_result",
          "data": {
            "text/plain": [
              "array([[0, 1, 2, 3],\n",
              "       [4, 5, 6, 7],\n",
              "       [0, 1, 2, 3],\n",
              "       [4, 5, 6, 7]])"
            ]
          },
          "metadata": {},
          "execution_count": 94
        }
      ],
      "source": [
        "A = np.arange(8).reshape(2, -1)\n",
        "B = np.arange(8).reshape(2, -1)\n",
        "\n",
        "np.concatenate((A, B), axis=0) # 0. dimenzió mentén ragasztjuk össze a tömböket az első paraméterben adjuk át tuple-ben (rendezett értékek)"
      ]
    },
    {
      "cell_type": "code",
      "execution_count": 95,
      "id": "annoying-county",
      "metadata": {
        "id": "annoying-county",
        "outputId": "088ecc44-5401-4079-b19d-411c86a7601d",
        "colab": {
          "base_uri": "https://localhost:8080/"
        }
      },
      "outputs": [
        {
          "output_type": "execute_result",
          "data": {
            "text/plain": [
              "array([[0, 1, 2, 3, 0, 1, 2, 3],\n",
              "       [4, 5, 6, 7, 4, 5, 6, 7]])"
            ]
          },
          "metadata": {},
          "execution_count": 95
        }
      ],
      "source": [
        "np.concatenate((A, B), axis=-1)  # utolsó dimenzió mentén ragaszt"
      ]
    },
    {
      "cell_type": "markdown",
      "id": "associate-trader",
      "metadata": {
        "id": "associate-trader"
      },
      "source": [
        "Mivel általában az első vagy második koordináta szerint ragasztunk, ezekre vannak rövidítések:"
      ]
    },
    {
      "cell_type": "code",
      "execution_count": 96,
      "id": "foster-carolina",
      "metadata": {
        "id": "foster-carolina"
      },
      "outputs": [],
      "source": [
        "A = np.arange(6).reshape(2, -1)\n",
        "B = np.arange(8).reshape(2, -1)"
      ]
    },
    {
      "cell_type": "code",
      "execution_count": 97,
      "id": "diverse-burden",
      "metadata": {
        "id": "diverse-burden",
        "outputId": "a49988ab-eb39-4677-e1bd-84ab48d933a7",
        "colab": {
          "base_uri": "https://localhost:8080/"
        }
      },
      "outputs": [
        {
          "output_type": "execute_result",
          "data": {
            "text/plain": [
              "array([[0, 1, 2, 0, 1, 2, 3],\n",
              "       [3, 4, 5, 4, 5, 6, 7]])"
            ]
          },
          "metadata": {},
          "execution_count": 97
        }
      ],
      "source": [
        "np.hstack((A, B)) # ugyanaz mint a concatenate 0 tengely mentén ragaszt"
      ]
    },
    {
      "cell_type": "code",
      "execution_count": 98,
      "id": "finnish-cheat",
      "metadata": {
        "id": "finnish-cheat",
        "outputId": "56ac8cea-b90b-4e16-f792-1ee649164167",
        "colab": {
          "base_uri": "https://localhost:8080/"
        }
      },
      "outputs": [
        {
          "output_type": "stream",
          "name": "stdout",
          "text": [
            "(3, 2) (4, 2)\n"
          ]
        },
        {
          "output_type": "execute_result",
          "data": {
            "text/plain": [
              "array([[0, 1],\n",
              "       [2, 3],\n",
              "       [4, 5],\n",
              "       [0, 1],\n",
              "       [2, 3],\n",
              "       [4, 5],\n",
              "       [6, 7]])"
            ]
          },
          "metadata": {},
          "execution_count": 98
        }
      ],
      "source": [
        "A = np.arange(6).reshape(-1, 2)\n",
        "B = np.arange(8).reshape(-1, 2)\n",
        "print(A.shape, B.shape)\n",
        "\n",
        "np.vstack((A, B))"
      ]
    },
    {
      "cell_type": "code",
      "execution_count": 99,
      "id": "limited-motorcycle",
      "metadata": {
        "id": "limited-motorcycle",
        "outputId": "3aa1c239-a370-4e97-a25a-edaa73b4d243",
        "colab": {
          "base_uri": "https://localhost:8080/",
          "height": 677
        }
      },
      "outputs": [
        {
          "output_type": "display_data",
          "data": {
            "text/plain": [
              "<Figure size 720x576 with 1 Axes>"
            ],
            "image/png": "[encoded data removed]"
          },
          "metadata": {
            "needs_background": "light"
          }
        },
        {
          "output_type": "display_data",
          "data": {
            "text/plain": [
              "<Figure size 720x576 with 1 Axes>"
            ],
            "image/png": "[encoded data removed]"
          },
          "metadata": {
            "needs_background": "light"
          }
        }
      ],
      "source": [
        "plt.imshow(np.vstack((image,image)))\n",
        "plt.show()\n",
        "plt.imshow(np.hstack((image,image)))\n",
        "plt.show()\n"
      ]
    },
    {
      "cell_type": "markdown",
      "id": "undefined-thousand",
      "metadata": {
        "id": "undefined-thousand"
      },
      "source": [
        "`np.stack` egy új dimenzió szerint egymás mellé rakja a tömböket"
      ]
    },
    {
      "cell_type": "code",
      "execution_count": null,
      "id": "streaming-mercury",
      "metadata": {
        "id": "streaming-mercury",
        "outputId": "caa589a1-ffbc-44ba-c5cd-7e0f34384174",
        "colab": {
          "base_uri": "https://localhost:8080/",
          "height": 365
        }
      },
      "outputs": [
        {
          "output_type": "display_data",
          "data": {
            "image/png": "[encoded data removed]",
            "text/plain": [
              "<Figure size 720x576 with 1 Axes>"
            ]
          },
          "metadata": {
            "needs_background": "light"
          }
        }
      ],
      "source": [
        "plt.imshow(np.stack((image[:,:,0],image[:,:,1],image[:,:,2]  ),axis=2 )) # Egymásra helyezi a tömböket egy új dimenzió mentén\n",
        "plt.show() # csak a Red piros csatornát másolja egymásra piros intenzitást mutatja a kép\n"
      ]
    },
    {
      "cell_type": "markdown",
      "id": "bound-standard",
      "metadata": {
        "id": "bound-standard"
      },
      "source": [
        "## Iteráció\n",
        "\n",
        "Alapból az első koordináta szerint van iterálás:"
      ]
    },
    {
      "cell_type": "code",
      "execution_count": null,
      "id": "inclusive-buying",
      "metadata": {
        "id": "inclusive-buying",
        "outputId": "5132acca-84bb-47ad-f3db-53997627dd66",
        "colab": {
          "base_uri": "https://localhost:8080/"
        }
      },
      "outputs": [
        {
          "output_type": "stream",
          "name": "stdout",
          "text": [
            "[0 1 2]\n",
            "[3 4 5]\n"
          ]
        }
      ],
      "source": [
        "A = np.arange(6).reshape(2, -1) \n",
        "for row in A: # az első dimenzió mentén iterálunk\n",
        "    print(row)"
      ]
    },
    {
      "cell_type": "markdown",
      "id": "anticipated-sphere",
      "metadata": {
        "id": "anticipated-sphere"
      },
      "source": [
        "De természetesen csinálhatunk ilyet:"
      ]
    },
    {
      "cell_type": "code",
      "source": [
        "B = np.arange(6).reshape(1, 2, 3)\n",
        "B"
      ],
      "metadata": {
        "colab": {
          "base_uri": "https://localhost:8080/"
        },
        "id": "Pn5qNnWx_UHL",
        "outputId": "1acb8a1a-2060-4ec1-c4dd-f4a53c7cc625"
      },
      "id": "Pn5qNnWx_UHL",
      "execution_count": 100,
      "outputs": [
        {
          "output_type": "execute_result",
          "data": {
            "text/plain": [
              "array([[[0, 1, 2],\n",
              "        [3, 4, 5]]])"
            ]
          },
          "metadata": {},
          "execution_count": 100
        }
      ]
    },
    {
      "cell_type": "code",
      "execution_count": 101,
      "id": "buried-closer",
      "metadata": {
        "id": "buried-closer",
        "outputId": "c75f6b24-7beb-4c38-b4a4-d4c37aaace4f",
        "colab": {
          "base_uri": "https://localhost:8080/"
        }
      },
      "outputs": [
        {
          "output_type": "stream",
          "name": "stdout",
          "text": [
            "0\n",
            "1\n",
            "2\n"
          ]
        }
      ],
      "source": [
        "for x in B[0, 0, :]: # a belső lekérdezés szerint iterálunk\n",
        "    print(x)"
      ]
    },
    {
      "cell_type": "markdown",
      "id": "compound-construction",
      "metadata": {
        "id": "compound-construction"
      },
      "source": [
        "És végigiterálhatunk az összes elemen is:"
      ]
    },
    {
      "cell_type": "code",
      "execution_count": null,
      "id": "fleet-victorian",
      "metadata": {
        "id": "fleet-victorian",
        "outputId": "f0bdb241-a7d8-4d08-ad7e-a9473a54a4d2",
        "colab": {
          "base_uri": "https://localhost:8080/"
        }
      },
      "outputs": [
        {
          "output_type": "stream",
          "name": "stdout",
          "text": [
            "0\n",
            "1\n",
            "2\n",
            "3\n",
            "4\n",
            "5\n"
          ]
        }
      ],
      "source": [
        "for a in B.flat: # kilapítja a mátrixot, sorban kiolvassa az elemeket\n",
        "    print(a)"
      ]
    },
    {
      "cell_type": "markdown",
      "id": "terminal-stationery",
      "metadata": {
        "id": "terminal-stationery"
      },
      "source": [
        "# Broadcasting\n",
        "\n",
        "Különböző méretű tömbökkel is tudunk műveleteket végrehajtani, ha az alakjaik megfelelnek néhány feltételnek. \n",
        "\n",
        "Például egy $1\\times 1$-es tömb összesorozható egy több dimenziós tömbbel, mintha skalárral szoroznánk."
      ]
    },
    {
      "cell_type": "code",
      "execution_count": null,
      "id": "noble-phenomenon",
      "metadata": {
        "id": "noble-phenomenon",
        "outputId": "443c985f-11ac-4d46-b70c-f03140d1a540",
        "colab": {
          "base_uri": "https://localhost:8080/"
        }
      },
      "outputs": [
        {
          "output_type": "stream",
          "name": "stdout",
          "text": [
            "[[2.]]\n",
            "[[ 0  1  2  3]\n",
            " [ 4  5  6  7]\n",
            " [ 8  9 10 11]]\n"
          ]
        },
        {
          "output_type": "execute_result",
          "data": {
            "text/plain": [
              "array([[ 0.,  2.,  4.,  6.],\n",
              "       [ 8., 10., 12., 14.],\n",
              "       [16., 18., 20., 22.]])"
            ]
          },
          "metadata": {},
          "execution_count": 136
        }
      ],
      "source": [
        "s = 2.0 * np.ones((1, 1))\n",
        "A=np.arange(12).reshape(3,4)\n",
        "print(s)\n",
        "print(A)\n",
        "s * A  # kitalálja, hogy s-t kiegészíti A alakra és elemenkénti műveletet végez"
      ]
    },
    {
      "cell_type": "markdown",
      "id": "altered-conservation",
      "metadata": {
        "id": "altered-conservation"
      },
      "source": [
        "De különböző méretű tömbökön nem tudunk elemenkénti műveletet végrehajtani:"
      ]
    },
    {
      "cell_type": "code",
      "execution_count": null,
      "id": "nominated-bradford",
      "metadata": {
        "id": "nominated-bradford",
        "colab": {
          "base_uri": "https://localhost:8080/",
          "height": 165
        },
        "outputId": "7a316601-5993-4735-d473-c4b78b61ba0b"
      },
      "outputs": [
        {
          "output_type": "error",
          "ename": "ValueError",
          "evalue": "ignored",
          "traceback": [
            "\u001b[0;31m---------------------------------------------------------------------------\u001b[0m",
            "\u001b[0;31mValueError\u001b[0m                                Traceback (most recent call last)",
            "\u001b[0;32m<ipython-input-75-2e4a1c4e81bc>\u001b[0m in \u001b[0;36m<module>\u001b[0;34m()\u001b[0m\n\u001b[0;32m----> 1\u001b[0;31m \u001b[0mnp\u001b[0m\u001b[0;34m.\u001b[0m\u001b[0mones\u001b[0m\u001b[0;34m(\u001b[0m\u001b[0;34m(\u001b[0m\u001b[0;36m2\u001b[0m\u001b[0;34m,\u001b[0m\u001b[0;36m3\u001b[0m\u001b[0;34m)\u001b[0m\u001b[0;34m)\u001b[0m \u001b[0;34m+\u001b[0m \u001b[0mnp\u001b[0m\u001b[0;34m.\u001b[0m\u001b[0mones\u001b[0m\u001b[0;34m(\u001b[0m\u001b[0;34m(\u001b[0m\u001b[0;36m3\u001b[0m\u001b[0;34m,\u001b[0m\u001b[0;36m2\u001b[0m\u001b[0;34m)\u001b[0m\u001b[0;34m)\u001b[0m \u001b[0;31m# nem tudja kitalálni mit akarunk\u001b[0m\u001b[0;34m\u001b[0m\u001b[0;34m\u001b[0m\u001b[0m\n\u001b[0m",
            "\u001b[0;31mValueError\u001b[0m: operands could not be broadcast together with shapes (2,3) (3,2) "
          ]
        }
      ],
      "source": [
        "np.ones((2,3)) + np.ones((3,2)) # nem tudja kitalálni mit akarunk"
      ]
    },
    {
      "cell_type": "markdown",
      "id": "variable-transcript",
      "metadata": {
        "id": "variable-transcript"
      },
      "source": [
        "Azt, hogy mi történjen a  _broadcasting_ határozza meg. Ha valamelyik dimenzió mérete 1, akkor akkor az a dimenzió _brodacastolható_ , azaz olyan széles lehet a dimenzió, amit a művelet akar."
      ]
    },
    {
      "cell_type": "code",
      "execution_count": null,
      "id": "possible-study",
      "metadata": {
        "id": "possible-study",
        "outputId": "7a5d5a5f-9aea-4a69-ef03-b17793709292",
        "colab": {
          "base_uri": "https://localhost:8080/"
        }
      },
      "outputs": [
        {
          "output_type": "execute_result",
          "data": {
            "text/plain": [
              "array([[0., 1., 2.],\n",
              "       [0., 1., 2.]])"
            ]
          },
          "metadata": {},
          "execution_count": 76
        }
      ],
      "source": [
        "np.arange(3).reshape((1,3)) + np.zeros((2, 3)) # ahol 1 a dimenzió ott bővít"
      ]
    },
    {
      "cell_type": "code",
      "execution_count": null,
      "id": "indie-insertion",
      "metadata": {
        "id": "indie-insertion",
        "outputId": "73ec0530-619b-449a-ad81-e7ca218e90a8"
      },
      "outputs": [
        {
          "data": {
            "text/plain": [
              "array([[0., 0., 0., 0.],\n",
              "       [1., 1., 1., 1.],\n",
              "       [2., 2., 2., 2.]])"
            ]
          },
          "execution_count": 100,
          "metadata": {},
          "output_type": "execute_result"
        }
      ],
      "source": [
        "np.arange(3).reshape((3,1)) + np.zeros((3, 4)) # ahol 1 a dimenzió ott bővít"
      ]
    },
    {
      "cell_type": "markdown",
      "id": "bored-stephen",
      "metadata": {
        "id": "bored-stephen"
      },
      "source": [
        "Több dimenzió egyszerre is broadcastolható:"
      ]
    },
    {
      "cell_type": "code",
      "execution_count": null,
      "id": "working-somewhere",
      "metadata": {
        "id": "working-somewhere",
        "outputId": "4a7f4133-8580-4df6-8fdf-bb9ae1498795"
      },
      "outputs": [
        {
          "data": {
            "text/plain": [
              "array([[[0., 0., 0., 0., 0.],\n",
              "        [1., 1., 1., 1., 1.],\n",
              "        [2., 2., 2., 2., 2.]],\n",
              "\n",
              "       [[0., 0., 0., 0., 0.],\n",
              "        [1., 1., 1., 1., 1.],\n",
              "        [2., 2., 2., 2., 2.]]])"
            ]
          },
          "execution_count": 101,
          "metadata": {},
          "output_type": "execute_result"
        }
      ],
      "source": [
        "np.arange(3).reshape((1,3,1)) + np.zeros((2,3,5)) # az első 1 dimenziót 2 dimenzióssá, a második 1-est 5 dimenzióssá bővíti"
      ]
    },
    {
      "cell_type": "markdown",
      "id": "christian-coaching",
      "metadata": {
        "id": "christian-coaching"
      },
      "source": [
        "\n"
      ]
    },
    {
      "cell_type": "code",
      "execution_count": 102,
      "id": "fifty-mother",
      "metadata": {
        "id": "fifty-mother",
        "outputId": "b0045175-8bd8-4b84-af1b-d20fb50e55f6",
        "colab": {
          "base_uri": "https://localhost:8080/"
        }
      },
      "outputs": [
        {
          "output_type": "stream",
          "name": "stdout",
          "text": [
            "Nem broadcastolható\n",
            "Broadcastolható\n",
            "Broadcastolható\n",
            "Nem broadcastolható\n"
          ]
        }
      ],
      "source": [
        "def test_broadcast(x, y):\n",
        "    try:\n",
        "        A = np.ones(x) + np.ones(y)\n",
        "        print(\"Broadcastolható\")\n",
        "    except ValueError:\n",
        "        print(\"Nem broadcastolható\")\n",
        "\n",
        "test_broadcast((3), (3,2,2))\n",
        "test_broadcast((2), (3,2,2))\n",
        "test_broadcast((3,1,4), (3,2,1))\n",
        "test_broadcast((3,1,4), (3,2,2))"
      ]
    },
    {
      "cell_type": "markdown",
      "id": "surprised-diamond",
      "metadata": {
        "id": "surprised-diamond"
      },
      "source": [
        "Meg is mondhatjuk, hogy hol hozzon létre új dimenziókat, a `none` kulcsszóval. "
      ]
    },
    {
      "cell_type": "code",
      "execution_count": null,
      "id": "common-genealogy",
      "metadata": {
        "id": "common-genealogy",
        "outputId": "bdff2012-89dc-43fb-9dc2-a928e3eef3ff"
      },
      "outputs": [
        {
          "data": {
            "text/plain": [
              "array([[[2., 2.],\n",
              "        [2., 2.]],\n",
              "\n",
              "       [[2., 2.],\n",
              "        [2., 2.]],\n",
              "\n",
              "       [[2., 2.],\n",
              "        [2., 2.]]])"
            ]
          },
          "execution_count": 104,
          "metadata": {},
          "output_type": "execute_result"
        }
      ],
      "source": [
        "(np.ones(3)[:, None, None] + np.ones((3,2,2)))"
      ]
    },
    {
      "cell_type": "markdown",
      "id": "employed-india",
      "metadata": {
        "id": "employed-india"
      },
      "source": [
        "Tehát ekkor így változnak a dimenziók: `(3, None, None) + (3, 2, 2) = (3, 2, 2)`"
      ]
    },
    {
      "cell_type": "markdown",
      "id": "liable-organ",
      "metadata": {
        "id": "liable-organ"
      },
      "source": [
        "#### Példa\n",
        "\n",
        "Rács a komplex számsíkon:"
      ]
    },
    {
      "cell_type": "code",
      "execution_count": 103,
      "id": "finite-cathedral",
      "metadata": {
        "id": "finite-cathedral",
        "outputId": "3c683a21-814a-4a7c-dedd-574d59580259",
        "colab": {
          "base_uri": "https://localhost:8080/"
        }
      },
      "outputs": [
        {
          "output_type": "execute_result",
          "data": {
            "text/plain": [
              "array([[0.+0.j, 0.+1.j, 0.+2.j, 0.+3.j, 0.+4.j],\n",
              "       [1.+0.j, 1.+1.j, 1.+2.j, 1.+3.j, 1.+4.j],\n",
              "       [2.+0.j, 2.+1.j, 2.+2.j, 2.+3.j, 2.+4.j],\n",
              "       [3.+0.j, 3.+1.j, 3.+2.j, 3.+3.j, 3.+4.j],\n",
              "       [4.+0.j, 4.+1.j, 4.+2.j, 4.+3.j, 4.+4.j]])"
            ]
          },
          "metadata": {},
          "execution_count": 103
        }
      ],
      "source": [
        "np.arange(5)[:, None] + 1j * np.arange(5)[None, :]"
      ]
    },
    {
      "cell_type": "markdown",
      "id": "included-broadcasting",
      "metadata": {
        "id": "included-broadcasting"
      },
      "source": [
        "# Tengely menti aggregálás \n",
        "\n",
        "Tengely menti szummázás:"
      ]
    },
    {
      "cell_type": "code",
      "execution_count": 104,
      "id": "expensive-district",
      "metadata": {
        "id": "expensive-district",
        "outputId": "1faec2d4-6c87-44a8-8b8d-5e0b37a6971a",
        "colab": {
          "base_uri": "https://localhost:8080/"
        }
      },
      "outputs": [
        {
          "output_type": "execute_result",
          "data": {
            "text/plain": [
              "array([[[ 0,  1,  2,  3],\n",
              "        [ 4,  5,  6,  7],\n",
              "        [ 8,  9, 10, 11]],\n",
              "\n",
              "       [[12, 13, 14, 15],\n",
              "        [16, 17, 18, 19],\n",
              "        [20, 21, 22, 23]]])"
            ]
          },
          "metadata": {},
          "execution_count": 104
        }
      ],
      "source": [
        "Y = np.arange(24).reshape(2,3,4)\n",
        "Y"
      ]
    },
    {
      "cell_type": "code",
      "execution_count": 105,
      "id": "increased-photography",
      "metadata": {
        "id": "increased-photography",
        "outputId": "7c0f26e9-12fe-4cf8-85df-8b5e0995d455",
        "colab": {
          "base_uri": "https://localhost:8080/"
        }
      },
      "outputs": [
        {
          "output_type": "execute_result",
          "data": {
            "text/plain": [
              "276"
            ]
          },
          "metadata": {},
          "execution_count": 105
        }
      ],
      "source": [
        "Y.sum()  # összes elem összege"
      ]
    },
    {
      "cell_type": "code",
      "execution_count": 106,
      "id": "alien-money",
      "metadata": {
        "id": "alien-money",
        "outputId": "04a14dfe-a37a-4f63-92e8-5ed372e61a99",
        "colab": {
          "base_uri": "https://localhost:8080/"
        }
      },
      "outputs": [
        {
          "output_type": "execute_result",
          "data": {
            "text/plain": [
              "array([[12, 14, 16, 18],\n",
              "       [20, 22, 24, 26],\n",
              "       [28, 30, 32, 34]])"
            ]
          },
          "metadata": {},
          "execution_count": 106
        }
      ],
      "source": [
        "Y.sum(axis=0) # 0. tengely mentén összegez mintha egymás tetejére helyeznénk a két 3*4-es tömböt"
      ]
    },
    {
      "cell_type": "code",
      "execution_count": null,
      "id": "seven-introduction",
      "metadata": {
        "id": "seven-introduction",
        "outputId": "b0600c2c-6583-4e1d-b6b5-09d56b7db6c8",
        "colab": {
          "base_uri": "https://localhost:8080/"
        }
      },
      "outputs": [
        {
          "output_type": "execute_result",
          "data": {
            "text/plain": [
              "array([[12, 15, 18, 21],\n",
              "       [48, 51, 54, 57]])"
            ]
          },
          "metadata": {},
          "execution_count": 143
        }
      ],
      "source": [
        "Y.sum(axis=1) # megkeressük az 1. tengelyt 3 elem található benne ezeket összegzi pl: 0+4+8 vagy 1+5+9, ..."
      ]
    },
    {
      "cell_type": "markdown",
      "id": "moving-building",
      "metadata": {
        "id": "moving-building"
      },
      "source": [
        "`mean, std, var` hasonlóan működik az átlag, szórás és szórásnégyzet  kiszámolására. "
      ]
    },
    {
      "cell_type": "code",
      "execution_count": null,
      "id": "curious-procurement",
      "metadata": {
        "id": "curious-procurement",
        "outputId": "da03200a-1180-483b-e50c-97f1d6fd7624",
        "colab": {
          "base_uri": "https://localhost:8080/"
        }
      },
      "outputs": [
        {
          "output_type": "execute_result",
          "data": {
            "text/plain": [
              "(11.5, 6.922186552431729, 47.916666666666664)"
            ]
          },
          "metadata": {},
          "execution_count": 144
        }
      ],
      "source": [
        "Y.mean(),Y.std(),Y.var()"
      ]
    },
    {
      "cell_type": "code",
      "execution_count": 107,
      "id": "amazing-fiction",
      "metadata": {
        "id": "amazing-fiction",
        "outputId": "1ecf6da9-92b7-4faa-94e3-ac3d0af5f317",
        "colab": {
          "base_uri": "https://localhost:8080/"
        }
      },
      "outputs": [
        {
          "output_type": "execute_result",
          "data": {
            "text/plain": [
              "array([ 7.5, 11.5, 15.5])"
            ]
          },
          "metadata": {},
          "execution_count": 107
        }
      ],
      "source": [
        "Y.mean(axis=(0, 2)) # két tengely mentén veszi az átlagot pl: (0+1+2+3+12+13+14+15)/8"
      ]
    },
    {
      "cell_type": "markdown",
      "id": "sophisticated-vision",
      "metadata": {
        "id": "sophisticated-vision"
      },
      "source": [
        "## Indexelés Bool értékekkel \n",
        "\n",
        "Feltételnek megfelelő elemek kiválasztása:"
      ]
    },
    {
      "cell_type": "code",
      "execution_count": 108,
      "id": "korean-wrist",
      "metadata": {
        "id": "korean-wrist",
        "outputId": "b83cf975-ae3a-4480-8697-b943c25c37c3",
        "colab": {
          "base_uri": "https://localhost:8080/"
        }
      },
      "outputs": [
        {
          "output_type": "stream",
          "name": "stdout",
          "text": [
            "0.5565914017147171\n"
          ]
        },
        {
          "output_type": "execute_result",
          "data": {
            "text/plain": [
              "array([[0.86069411, 0.30261921, 0.22673367],\n",
              "       [0.05600323, 0.29964423, 0.86755613],\n",
              "       [0.34918598, 0.94372526, 0.74900065],\n",
              "       [0.29477296, 0.92282728, 0.80633412]])"
            ]
          },
          "metadata": {},
          "execution_count": 108
        }
      ],
      "source": [
        "A = np.random.random((4, 3))\n",
        "print(A.mean())\n",
        "A"
      ]
    },
    {
      "cell_type": "markdown",
      "id": "recovered-morocco",
      "metadata": {
        "id": "recovered-morocco"
      },
      "source": [
        "Az átlagnál nagyobb elemek: "
      ]
    },
    {
      "cell_type": "code",
      "execution_count": 115,
      "id": "eligible-fairy",
      "metadata": {
        "id": "eligible-fairy"
      },
      "outputs": [],
      "source": [
        "#[A > A.mean()] azon elemek lekérdezése amely elemek nagyobbak az átlagnál broadcasting\n"
      ]
    },
    {
      "cell_type": "code",
      "execution_count": 113,
      "id": "whole-washer",
      "metadata": {
        "id": "whole-washer",
        "outputId": "c944f5c0-445b-43f8-e83f-10a37348a8a3",
        "colab": {
          "base_uri": "https://localhost:8080/"
        }
      },
      "outputs": [
        {
          "output_type": "execute_result",
          "data": {
            "text/plain": [
              "array([[ True, False, False],\n",
              "       [False, False,  True],\n",
              "       [False,  True,  True],\n",
              "       [False,  True,  True]])"
            ]
          },
          "metadata": {},
          "execution_count": 113
        }
      ],
      "source": [
        "A > A.mean()"
      ]
    },
    {
      "cell_type": "markdown",
      "id": "therapeutic-offer",
      "metadata": {
        "id": "therapeutic-offer"
      },
      "source": [
        "`np.where` visszatér azokkal a tömbökkel, amik a speckó indexeléshez kellenek, ha a feltételnek megfelelő elemeket akarjuk:"
      ]
    },
    {
      "cell_type": "code",
      "execution_count": 116,
      "id": "happy-smell",
      "metadata": {
        "id": "happy-smell",
        "outputId": "5e1229c9-e36d-47d5-8ed5-a39e43b0c3b4",
        "colab": {
          "base_uri": "https://localhost:8080/"
        }
      },
      "outputs": [
        {
          "output_type": "execute_result",
          "data": {
            "text/plain": [
              "(array([0, 1, 2, 2, 3, 3]), array([0, 2, 1, 2, 1, 2]))"
            ]
          },
          "metadata": {},
          "execution_count": 116
        }
      ],
      "source": [
        "np.where(A > A.mean()) # az eredmény két tömb amelyindexeket tartalmaz 1. koordináták az elsőtömbben, ..."
      ]
    },
    {
      "cell_type": "code",
      "execution_count": 117,
      "id": "bearing-sessions",
      "metadata": {
        "id": "bearing-sessions",
        "outputId": "d8c70899-00c4-4eaa-ced9-93e421dfbf7c",
        "colab": {
          "base_uri": "https://localhost:8080/"
        }
      },
      "outputs": [
        {
          "output_type": "execute_result",
          "data": {
            "text/plain": [
              "array([0.86069411, 0.86755613, 0.94372526, 0.74900065, 0.92282728,\n",
              "       0.80633412])"
            ]
          },
          "metadata": {},
          "execution_count": 117
        }
      ],
      "source": [
        "A[np.where(A > A.mean())]"
      ]
    },
    {
      "cell_type": "markdown",
      "id": "willing-language",
      "metadata": {
        "id": "willing-language"
      },
      "source": [
        "## Milyen hosszú a brit tengerpart? − kérdezte Benoit Mandelbrot amerikai kutató a Science tudományos folyóiratban 1967-ben megjelent cikkében. \n",
        "\n",
        "\n",
        "A Mandelbrot-halmaz azon $c$ komplex számokból áll, melyekre az alábbi $x_{n}$ rekurzív sorozat:\n",
        "\n",
        "$x_{1}=c$\n",
        "\n",
        "$x_{n+1}:=(x_{n})^{2}+c$\n",
        "\n",
        "nem tart végtelenbe, azaz abszolút értékben (hosszára nézve) korlátos.\n",
        "\n",
        "![image.png](data:image/png;base64,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)"
      ]
    },
    {
      "cell_type": "markdown",
      "id": "tested-eugene",
      "metadata": {
        "id": "tested-eugene"
      },
      "source": [
        "## Mandelbrot halmaz\n",
        "\n",
        "A Mandelbrot-halmaz azon $c$ komplex számokból áll, melyekre az alábbi $x_{n}$ rekurzív sorozat:\n",
        "\n",
        "$x_{1}=c$\n",
        "\n",
        "$x_{n+1}:=(x_{n})^{2}+c$\n",
        "\n",
        "nem tart végtelenbe, azaz abszolút értékben (hosszára nézve) korlátos."
      ]
    },
    {
      "cell_type": "code",
      "execution_count": null,
      "id": "future-bunch",
      "metadata": {
        "id": "future-bunch",
        "outputId": "99a729fa-e09b-4417-9a7a-cb83c23abe5b",
        "colab": {
          "base_uri": "https://localhost:8080/",
          "height": 595
        }
      },
      "outputs": [
        {
          "output_type": "display_data",
          "data": {
            "image/png": "[encoded data removed]",
            "text/plain": [
              "<Figure size 720x720 with 1 Axes>"
            ]
          },
          "metadata": {
            "needs_background": "light"
          }
        }
      ],
      "source": [
        "import matplotlib.pyplot as plt    #rajzoláshoz\n",
        "\n",
        "def mandelbrot( h,w, maxit=20 ):\n",
        "    c=(np.linspace(-1.4,1.4,h))[:, None]*1j + (np.linspace(-2,0.8,w))[None, :]\n",
        "    z = c \n",
        "    divtime = maxit + np.zeros(z.shape, dtype=int)\n",
        "    for i in range(maxit):\n",
        "        z = z**2 + c\n",
        "        #diverge = z*np.conj(z) > 2**2         # Ki divergál? \n",
        "        diverge = abs(z) > 2                   # Ki divergál? \n",
        "        div_now = diverge & (divtime==maxit)  # Ki divergál ebben a lépésben?\n",
        "        divtime[div_now] = i                  # felírjuk, hogy mikor divergált\n",
        "        z[diverge] = 2                        # ne divárgáljunk túl sokat\n",
        "    return divtime\n",
        "\n",
        "# jövő órán foglalkozunk vele\n",
        "fig = plt.figure(figsize = (10,10))  \n",
        "ax = fig.add_subplot(111)\n",
        "ax.imshow(mandelbrot(1000,1000), interpolation='none')\n",
        "plt.show()"
      ]
    },
    {
      "cell_type": "code",
      "execution_count": null,
      "id": "transparent-submission",
      "metadata": {
        "id": "transparent-submission"
      },
      "outputs": [],
      "source": []
    }
  ],
  "metadata": {
    "celltoolbar": "Slideshow",
    "kernelspec": {
      "display_name": "Python 3",
      "language": "python",
      "name": "python3"
    },
    "language_info": {
      "codemirror_mode": {
        "name": "ipython",
        "version": 3
      },
      "file_extension": ".py",
      "mimetype": "text/x-python",
      "name": "python",
      "nbconvert_exporter": "python",
      "pygments_lexer": "ipython3",
      "version": "3.7.9"
    },
    "colab": {
      "provenance": [],
      "collapsed_sections": [
        "christian-coaching",
        "liable-organ",
        "sophisticated-vision",
        "tested-eugene"
      ],
      "include_colab_link": true
    }
  },
  "nbformat": 4,
  "nbformat_minor": 5
}